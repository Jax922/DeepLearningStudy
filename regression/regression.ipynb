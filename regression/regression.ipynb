{
 "cells": [
  {
   "attachments": {},
   "cell_type": "markdown",
   "metadata": {},
   "source": [
    "# COVID-19 Prediction"
   ]
  },
  {
   "cell_type": "code",
   "execution_count": 17,
   "metadata": {},
   "outputs": [],
   "source": [
    "# import py packages\n",
    "import numpy as np\n",
    "import pandas as pd\n",
    "\n",
    "import torch\n",
    "import torch.nn as nn\n",
    "from torch.utils.data import Dataset, DataLoader, random_split\n",
    "from torch.utils.tensorboard import summary\n",
    "\n",
    "from tqdm import tqdm\n",
    "\n",
    "import math\n",
    "import os\n",
    "import csv\n"
   ]
  },
  {
   "attachments": {},
   "cell_type": "markdown",
   "metadata": {},
   "source": [
    "## Dataset "
   ]
  },
  {
   "cell_type": "code",
   "execution_count": 18,
   "metadata": {},
   "outputs": [],
   "source": [
    "class CovidDataset(Dataset):\n",
    "    def __init__(self, x, y) -> None:\n",
    "        if y is None:\n",
    "            self.y = y\n",
    "        else:\n",
    "            self.y = torch.FloatTensor(y)\n",
    "        self.x = torch.FloatTensor(x)\n",
    "\n",
    "    def __getitem__(self, index):\n",
    "        if self.y is None:\n",
    "            return self.x[index]\n",
    "        else:\n",
    "            return self.x[index], self.y[index]\n",
    "        \n",
    "    def __len__(self):\n",
    "        return len(self.x)   "
   ]
  },
  {
   "attachments": {},
   "cell_type": "markdown",
   "metadata": {},
   "source": [
    "## nn Model"
   ]
  },
  {
   "cell_type": "code",
   "execution_count": 19,
   "metadata": {},
   "outputs": [],
   "source": [
    "class PredModel(nn.Module):\n",
    "    def __init__(self,input_dim) -> None:\n",
    "        super(PredModel, self).__init__()\n",
    "        self.layers = nn.Sequential(\n",
    "            nn.Linear(input_dim, 16),\n",
    "            nn.ReLU(),\n",
    "            nn.Linear(16, 8),\n",
    "            nn.ReLU(),\n",
    "            nn.Linear(8, 1)\n",
    "        )\n",
    "    \n",
    "    def forward(self, x):\n",
    "        x = self.layers(x)\n",
    "        x = x.squeeze(1)\n",
    "        return x"
   ]
  },
  {
   "attachments": {},
   "cell_type": "markdown",
   "metadata": {},
   "source": [
    "## DataLoader"
   ]
  },
  {
   "cell_type": "code",
   "execution_count": 20,
   "metadata": {},
   "outputs": [
    {
     "data": {
      "text/html": [
       "<div>\n",
       "<style scoped>\n",
       "    .dataframe tbody tr th:only-of-type {\n",
       "        vertical-align: middle;\n",
       "    }\n",
       "\n",
       "    .dataframe tbody tr th {\n",
       "        vertical-align: top;\n",
       "    }\n",
       "\n",
       "    .dataframe thead th {\n",
       "        text-align: right;\n",
       "    }\n",
       "</style>\n",
       "<table border=\"1\" class=\"dataframe\">\n",
       "  <thead>\n",
       "    <tr style=\"text-align: right;\">\n",
       "      <th></th>\n",
       "      <th>id</th>\n",
       "      <th>AL</th>\n",
       "      <th>AK</th>\n",
       "      <th>AZ</th>\n",
       "      <th>AR</th>\n",
       "      <th>CA</th>\n",
       "      <th>CO</th>\n",
       "      <th>CT</th>\n",
       "      <th>FL</th>\n",
       "      <th>GA</th>\n",
       "      <th>...</th>\n",
       "      <th>work_outside_home.4</th>\n",
       "      <th>shop.4</th>\n",
       "      <th>restaurant.4</th>\n",
       "      <th>spent_time.4</th>\n",
       "      <th>large_event.4</th>\n",
       "      <th>public_transit.4</th>\n",
       "      <th>anxious.4</th>\n",
       "      <th>depressed.4</th>\n",
       "      <th>worried_finances.4</th>\n",
       "      <th>tested_positive.4</th>\n",
       "    </tr>\n",
       "  </thead>\n",
       "  <tbody>\n",
       "    <tr>\n",
       "      <th>0</th>\n",
       "      <td>0</td>\n",
       "      <td>0</td>\n",
       "      <td>0</td>\n",
       "      <td>0</td>\n",
       "      <td>0</td>\n",
       "      <td>0</td>\n",
       "      <td>0</td>\n",
       "      <td>0</td>\n",
       "      <td>1</td>\n",
       "      <td>0</td>\n",
       "      <td>...</td>\n",
       "      <td>31.113209</td>\n",
       "      <td>67.394551</td>\n",
       "      <td>36.674291</td>\n",
       "      <td>40.743132</td>\n",
       "      <td>17.842221</td>\n",
       "      <td>4.093712</td>\n",
       "      <td>10.440071</td>\n",
       "      <td>8.627117</td>\n",
       "      <td>37.329512</td>\n",
       "      <td>7.456154</td>\n",
       "    </tr>\n",
       "    <tr>\n",
       "      <th>1</th>\n",
       "      <td>1</td>\n",
       "      <td>0</td>\n",
       "      <td>0</td>\n",
       "      <td>0</td>\n",
       "      <td>0</td>\n",
       "      <td>0</td>\n",
       "      <td>1</td>\n",
       "      <td>0</td>\n",
       "      <td>0</td>\n",
       "      <td>0</td>\n",
       "      <td>...</td>\n",
       "      <td>33.920257</td>\n",
       "      <td>64.398380</td>\n",
       "      <td>34.612238</td>\n",
       "      <td>44.035688</td>\n",
       "      <td>17.808103</td>\n",
       "      <td>4.924935</td>\n",
       "      <td>10.172662</td>\n",
       "      <td>9.954333</td>\n",
       "      <td>32.508881</td>\n",
       "      <td>8.010957</td>\n",
       "    </tr>\n",
       "    <tr>\n",
       "      <th>2</th>\n",
       "      <td>2</td>\n",
       "      <td>0</td>\n",
       "      <td>0</td>\n",
       "      <td>0</td>\n",
       "      <td>0</td>\n",
       "      <td>0</td>\n",
       "      <td>0</td>\n",
       "      <td>0</td>\n",
       "      <td>0</td>\n",
       "      <td>0</td>\n",
       "      <td>...</td>\n",
       "      <td>31.604604</td>\n",
       "      <td>62.101064</td>\n",
       "      <td>26.521875</td>\n",
       "      <td>36.746453</td>\n",
       "      <td>13.903667</td>\n",
       "      <td>7.313833</td>\n",
       "      <td>10.388712</td>\n",
       "      <td>7.956139</td>\n",
       "      <td>36.745588</td>\n",
       "      <td>2.906977</td>\n",
       "    </tr>\n",
       "    <tr>\n",
       "      <th>3</th>\n",
       "      <td>3</td>\n",
       "      <td>0</td>\n",
       "      <td>0</td>\n",
       "      <td>0</td>\n",
       "      <td>0</td>\n",
       "      <td>0</td>\n",
       "      <td>0</td>\n",
       "      <td>0</td>\n",
       "      <td>0</td>\n",
       "      <td>0</td>\n",
       "      <td>...</td>\n",
       "      <td>35.115738</td>\n",
       "      <td>67.935520</td>\n",
       "      <td>38.022492</td>\n",
       "      <td>48.434809</td>\n",
       "      <td>27.134876</td>\n",
       "      <td>3.101904</td>\n",
       "      <td>10.498683</td>\n",
       "      <td>8.231522</td>\n",
       "      <td>38.680162</td>\n",
       "      <td>12.575816</td>\n",
       "    </tr>\n",
       "    <tr>\n",
       "      <th>4</th>\n",
       "      <td>4</td>\n",
       "      <td>0</td>\n",
       "      <td>0</td>\n",
       "      <td>0</td>\n",
       "      <td>0</td>\n",
       "      <td>0</td>\n",
       "      <td>0</td>\n",
       "      <td>0</td>\n",
       "      <td>0</td>\n",
       "      <td>0</td>\n",
       "      <td>...</td>\n",
       "      <td>35.129714</td>\n",
       "      <td>69.934592</td>\n",
       "      <td>38.242368</td>\n",
       "      <td>49.095933</td>\n",
       "      <td>22.683709</td>\n",
       "      <td>4.594620</td>\n",
       "      <td>9.878927</td>\n",
       "      <td>9.469290</td>\n",
       "      <td>28.344123</td>\n",
       "      <td>21.428589</td>\n",
       "    </tr>\n",
       "    <tr>\n",
       "      <th>...</th>\n",
       "      <td>...</td>\n",
       "      <td>...</td>\n",
       "      <td>...</td>\n",
       "      <td>...</td>\n",
       "      <td>...</td>\n",
       "      <td>...</td>\n",
       "      <td>...</td>\n",
       "      <td>...</td>\n",
       "      <td>...</td>\n",
       "      <td>...</td>\n",
       "      <td>...</td>\n",
       "      <td>...</td>\n",
       "      <td>...</td>\n",
       "      <td>...</td>\n",
       "      <td>...</td>\n",
       "      <td>...</td>\n",
       "      <td>...</td>\n",
       "      <td>...</td>\n",
       "      <td>...</td>\n",
       "      <td>...</td>\n",
       "      <td>...</td>\n",
       "    </tr>\n",
       "    <tr>\n",
       "      <th>2694</th>\n",
       "      <td>2695</td>\n",
       "      <td>0</td>\n",
       "      <td>0</td>\n",
       "      <td>0</td>\n",
       "      <td>0</td>\n",
       "      <td>0</td>\n",
       "      <td>0</td>\n",
       "      <td>0</td>\n",
       "      <td>0</td>\n",
       "      <td>0</td>\n",
       "      <td>...</td>\n",
       "      <td>39.209278</td>\n",
       "      <td>65.815096</td>\n",
       "      <td>37.046827</td>\n",
       "      <td>46.777637</td>\n",
       "      <td>21.952499</td>\n",
       "      <td>2.724187</td>\n",
       "      <td>14.658436</td>\n",
       "      <td>11.099308</td>\n",
       "      <td>33.154910</td>\n",
       "      <td>13.437482</td>\n",
       "    </tr>\n",
       "    <tr>\n",
       "      <th>2695</th>\n",
       "      <td>2696</td>\n",
       "      <td>0</td>\n",
       "      <td>0</td>\n",
       "      <td>0</td>\n",
       "      <td>0</td>\n",
       "      <td>0</td>\n",
       "      <td>0</td>\n",
       "      <td>0</td>\n",
       "      <td>0</td>\n",
       "      <td>0</td>\n",
       "      <td>...</td>\n",
       "      <td>28.984491</td>\n",
       "      <td>66.126427</td>\n",
       "      <td>31.299807</td>\n",
       "      <td>40.399527</td>\n",
       "      <td>16.783327</td>\n",
       "      <td>14.058799</td>\n",
       "      <td>13.129031</td>\n",
       "      <td>10.492896</td>\n",
       "      <td>36.670282</td>\n",
       "      <td>5.040143</td>\n",
       "    </tr>\n",
       "    <tr>\n",
       "      <th>2696</th>\n",
       "      <td>2697</td>\n",
       "      <td>0</td>\n",
       "      <td>0</td>\n",
       "      <td>0</td>\n",
       "      <td>1</td>\n",
       "      <td>0</td>\n",
       "      <td>0</td>\n",
       "      <td>0</td>\n",
       "      <td>0</td>\n",
       "      <td>0</td>\n",
       "      <td>...</td>\n",
       "      <td>34.346100</td>\n",
       "      <td>63.456270</td>\n",
       "      <td>30.829009</td>\n",
       "      <td>41.828908</td>\n",
       "      <td>20.597714</td>\n",
       "      <td>2.391852</td>\n",
       "      <td>16.940896</td>\n",
       "      <td>12.888275</td>\n",
       "      <td>42.452451</td>\n",
       "      <td>13.618256</td>\n",
       "    </tr>\n",
       "    <tr>\n",
       "      <th>2697</th>\n",
       "      <td>2698</td>\n",
       "      <td>0</td>\n",
       "      <td>0</td>\n",
       "      <td>0</td>\n",
       "      <td>0</td>\n",
       "      <td>0</td>\n",
       "      <td>0</td>\n",
       "      <td>0</td>\n",
       "      <td>0</td>\n",
       "      <td>0</td>\n",
       "      <td>...</td>\n",
       "      <td>30.451071</td>\n",
       "      <td>67.477177</td>\n",
       "      <td>33.975333</td>\n",
       "      <td>45.837535</td>\n",
       "      <td>18.437260</td>\n",
       "      <td>3.088666</td>\n",
       "      <td>12.621144</td>\n",
       "      <td>10.096939</td>\n",
       "      <td>29.668802</td>\n",
       "      <td>9.512585</td>\n",
       "    </tr>\n",
       "    <tr>\n",
       "      <th>2698</th>\n",
       "      <td>2699</td>\n",
       "      <td>0</td>\n",
       "      <td>0</td>\n",
       "      <td>0</td>\n",
       "      <td>0</td>\n",
       "      <td>0</td>\n",
       "      <td>0</td>\n",
       "      <td>0</td>\n",
       "      <td>0</td>\n",
       "      <td>0</td>\n",
       "      <td>...</td>\n",
       "      <td>33.803854</td>\n",
       "      <td>66.374538</td>\n",
       "      <td>38.493176</td>\n",
       "      <td>41.290529</td>\n",
       "      <td>19.225268</td>\n",
       "      <td>5.326241</td>\n",
       "      <td>13.157865</td>\n",
       "      <td>9.618114</td>\n",
       "      <td>37.744195</td>\n",
       "      <td>11.069423</td>\n",
       "    </tr>\n",
       "  </tbody>\n",
       "</table>\n",
       "<p>2699 rows × 118 columns</p>\n",
       "</div>"
      ],
      "text/plain": [
       "        id  AL  AK  AZ  AR  CA  CO  CT  FL  GA  ...  work_outside_home.4  \\\n",
       "0        0   0   0   0   0   0   0   0   1   0  ...            31.113209   \n",
       "1        1   0   0   0   0   0   1   0   0   0  ...            33.920257   \n",
       "2        2   0   0   0   0   0   0   0   0   0  ...            31.604604   \n",
       "3        3   0   0   0   0   0   0   0   0   0  ...            35.115738   \n",
       "4        4   0   0   0   0   0   0   0   0   0  ...            35.129714   \n",
       "...    ...  ..  ..  ..  ..  ..  ..  ..  ..  ..  ...                  ...   \n",
       "2694  2695   0   0   0   0   0   0   0   0   0  ...            39.209278   \n",
       "2695  2696   0   0   0   0   0   0   0   0   0  ...            28.984491   \n",
       "2696  2697   0   0   0   1   0   0   0   0   0  ...            34.346100   \n",
       "2697  2698   0   0   0   0   0   0   0   0   0  ...            30.451071   \n",
       "2698  2699   0   0   0   0   0   0   0   0   0  ...            33.803854   \n",
       "\n",
       "         shop.4  restaurant.4  spent_time.4  large_event.4  public_transit.4  \\\n",
       "0     67.394551     36.674291     40.743132      17.842221          4.093712   \n",
       "1     64.398380     34.612238     44.035688      17.808103          4.924935   \n",
       "2     62.101064     26.521875     36.746453      13.903667          7.313833   \n",
       "3     67.935520     38.022492     48.434809      27.134876          3.101904   \n",
       "4     69.934592     38.242368     49.095933      22.683709          4.594620   \n",
       "...         ...           ...           ...            ...               ...   \n",
       "2694  65.815096     37.046827     46.777637      21.952499          2.724187   \n",
       "2695  66.126427     31.299807     40.399527      16.783327         14.058799   \n",
       "2696  63.456270     30.829009     41.828908      20.597714          2.391852   \n",
       "2697  67.477177     33.975333     45.837535      18.437260          3.088666   \n",
       "2698  66.374538     38.493176     41.290529      19.225268          5.326241   \n",
       "\n",
       "      anxious.4  depressed.4  worried_finances.4  tested_positive.4  \n",
       "0     10.440071     8.627117           37.329512           7.456154  \n",
       "1     10.172662     9.954333           32.508881           8.010957  \n",
       "2     10.388712     7.956139           36.745588           2.906977  \n",
       "3     10.498683     8.231522           38.680162          12.575816  \n",
       "4      9.878927     9.469290           28.344123          21.428589  \n",
       "...         ...          ...                 ...                ...  \n",
       "2694  14.658436    11.099308           33.154910          13.437482  \n",
       "2695  13.129031    10.492896           36.670282           5.040143  \n",
       "2696  16.940896    12.888275           42.452451          13.618256  \n",
       "2697  12.621144    10.096939           29.668802           9.512585  \n",
       "2698  13.157865     9.618114           37.744195          11.069423  \n",
       "\n",
       "[2699 rows x 118 columns]"
      ]
     },
     "execution_count": 20,
     "metadata": {},
     "output_type": "execute_result"
    }
   ],
   "source": [
    "train_df = pd.read_csv(\"./dataset/covid.train.csv\")\n",
    "test_df = pd.read_csv(\"./dataset/covid.test.csv\")\n",
    "train_df"
   ]
  },
  {
   "cell_type": "code",
   "execution_count": 21,
   "metadata": {},
   "outputs": [
    {
     "name": "stdout",
     "output_type": "stream",
     "text": [
      "train_data: (2160, 117)\n",
      "valid_data: (539, 117)\n",
      "test_data: (1078, 117)\n"
     ]
    }
   ],
   "source": [
    "def set_seed(seed=0):\n",
    "    torch.backends.cudnn.deterministic = True\n",
    "    torch.backends.cudnn.benchmark = False\n",
    "    np.random.seed(seed)\n",
    "    torch.manual_seed(seed)\n",
    "    if torch.cuda.is_available(): # for cuda\n",
    "        torch.cuda.manual_seed(seed)\n",
    "\n",
    "    \n",
    "def train_valid_split(dataset, valid_ratio=0.2, seed=0):\n",
    "    total_num = len(dataset)\n",
    "    split_num = int(np.floor(valid_ratio * total_num))\n",
    "    generator = torch.Generator().manual_seed(seed)\n",
    "    train_set, valid_set = random_split(dataset, [total_num-split_num, split_num], generator=generator)\n",
    "    return np.array(train_set), np.array(valid_set)\n",
    "\n",
    "config = {\n",
    "    \"seed\": 0,\n",
    "    \"batch_size\": 256,\n",
    "    \"lr\": 1e-5,\n",
    "    \"epochs\": 50,\n",
    "    \"save_path\": \"./models/model.pth\",\n",
    "}\n",
    "\n",
    "device = (\n",
    "    \"cuda\" if torch.cuda.is_available()\n",
    "    else \"mps\" if torch.backends.mps.is_available()\n",
    "    else \"cpu\" \n",
    ")\n",
    "\n",
    "set_seed(config[\"seed\"])\n",
    "\n",
    "train_df = train_df.drop(columns=[\"id\"])\n",
    "train_data = train_df.values\n",
    "test_data = test_df.values\n",
    "train_data, valid_data = train_valid_split(train_data, valid_ratio=0.2, seed=config[\"seed\"])\n",
    "\n",
    "print(f\"train_data: {train_data.shape}\")\n",
    "print(f\"valid_data: {valid_data.shape}\")\n",
    "print(f\"test_data: {test_data.shape}\")\n",
    "\n",
    "\n",
    "\n",
    "def select_features(data):\n",
    "    X = data[:, :-1]\n",
    "    y = data[:, -1]\n",
    "    return X, y\n",
    "\n",
    "X_train, y_train = select_features(train_data)\n",
    "X_valid, y_valid = select_features(valid_data)\n",
    "X_test, y_test = select_features(test_data)\n",
    "\n",
    "\n",
    "train_dataset = CovidDataset(X_train, y_train)\n",
    "valid_dataset = CovidDataset(X_valid, y_valid)\n",
    "test_dataset = CovidDataset(X_test, None)\n",
    "\n",
    "train_loader = DataLoader(train_dataset, batch_size=config[\"batch_size\"], shuffle=True)\n",
    "valid_loader = DataLoader(valid_dataset, batch_size=config[\"batch_size\"], shuffle=False)\n",
    "test_loader = DataLoader(test_dataset, batch_size=config[\"batch_size\"], shuffle=False)\n",
    "\n"
   ]
  },
  {
   "attachments": {},
   "cell_type": "markdown",
   "metadata": {},
   "source": [
    "## Training"
   ]
  },
  {
   "cell_type": "code",
   "execution_count": 22,
   "metadata": {},
   "outputs": [
    {
     "name": "stderr",
     "output_type": "stream",
     "text": [
      "Epoch 1/50: 100%|██████████| 9/9 [00:00<00:00, 67.55it/s, loss=84.7]\n"
     ]
    },
    {
     "name": "stdout",
     "output_type": "stream",
     "text": [
      "Epoch 1/50, valid loss: 89.58153788248698\n",
      "save model at epoch 1, and with loss89.58153788248698\n"
     ]
    },
    {
     "name": "stderr",
     "output_type": "stream",
     "text": [
      "Epoch 2/50: 100%|██████████| 9/9 [00:00<00:00, 171.33it/s, loss=45.6]\n"
     ]
    },
    {
     "name": "stdout",
     "output_type": "stream",
     "text": [
      "Epoch 2/50, valid loss: 54.99344380696615\n",
      "save model at epoch 2, and with loss54.99344380696615\n"
     ]
    },
    {
     "name": "stderr",
     "output_type": "stream",
     "text": [
      "Epoch 3/50: 100%|██████████| 9/9 [00:00<00:00, 174.04it/s, loss=46]\n"
     ]
    },
    {
     "name": "stdout",
     "output_type": "stream",
     "text": [
      "Epoch 3/50, valid loss: 44.431016286214195\n",
      "save model at epoch 3, and with loss44.431016286214195\n"
     ]
    },
    {
     "name": "stderr",
     "output_type": "stream",
     "text": [
      "Epoch 4/50: 100%|██████████| 9/9 [00:00<00:00, 182.42it/s, loss=36.5]\n"
     ]
    },
    {
     "name": "stdout",
     "output_type": "stream",
     "text": [
      "Epoch 4/50, valid loss: 38.566277821858726\n",
      "save model at epoch 4, and with loss38.566277821858726\n"
     ]
    },
    {
     "name": "stderr",
     "output_type": "stream",
     "text": [
      "Epoch 5/50: 100%|██████████| 9/9 [00:00<00:00, 181.94it/s, loss=32.7]\n"
     ]
    },
    {
     "name": "stdout",
     "output_type": "stream",
     "text": [
      "Epoch 5/50, valid loss: 34.59286626180013\n",
      "save model at epoch 5, and with loss34.59286626180013\n"
     ]
    },
    {
     "name": "stderr",
     "output_type": "stream",
     "text": [
      "Epoch 6/50: 100%|██████████| 9/9 [00:00<00:00, 188.77it/s, loss=30.7]\n"
     ]
    },
    {
     "name": "stdout",
     "output_type": "stream",
     "text": [
      "Epoch 6/50, valid loss: 30.349015553792317\n",
      "save model at epoch 6, and with loss30.349015553792317\n"
     ]
    },
    {
     "name": "stderr",
     "output_type": "stream",
     "text": [
      "Epoch 7/50: 100%|██████████| 9/9 [00:00<00:00, 184.77it/s, loss=27.9]\n"
     ]
    },
    {
     "name": "stdout",
     "output_type": "stream",
     "text": [
      "Epoch 7/50, valid loss: 24.214567184448242\n",
      "save model at epoch 7, and with loss24.214567184448242\n"
     ]
    },
    {
     "name": "stderr",
     "output_type": "stream",
     "text": [
      "Epoch 8/50: 100%|██████████| 9/9 [00:00<00:00, 180.93it/s, loss=21.1]\n"
     ]
    },
    {
     "name": "stdout",
     "output_type": "stream",
     "text": [
      "Epoch 8/50, valid loss: 19.83814748128255\n",
      "save model at epoch 8, and with loss19.83814748128255\n"
     ]
    },
    {
     "name": "stderr",
     "output_type": "stream",
     "text": [
      "Epoch 9/50: 100%|██████████| 9/9 [00:00<00:00, 176.33it/s, loss=17.3]\n"
     ]
    },
    {
     "name": "stdout",
     "output_type": "stream",
     "text": [
      "Epoch 9/50, valid loss: 15.305650075276693\n",
      "save model at epoch 9, and with loss15.305650075276693\n"
     ]
    },
    {
     "name": "stderr",
     "output_type": "stream",
     "text": [
      "Epoch 10/50: 100%|██████████| 9/9 [00:00<00:00, 179.49it/s, loss=9.09]\n"
     ]
    },
    {
     "name": "stdout",
     "output_type": "stream",
     "text": [
      "Epoch 10/50, valid loss: 11.295862197875977\n",
      "save model at epoch 10, and with loss11.295862197875977\n"
     ]
    },
    {
     "name": "stderr",
     "output_type": "stream",
     "text": [
      "Epoch 11/50: 100%|██████████| 9/9 [00:00<00:00, 174.97it/s, loss=9.58]\n"
     ]
    },
    {
     "name": "stdout",
     "output_type": "stream",
     "text": [
      "Epoch 11/50, valid loss: 8.40843152999878\n",
      "save model at epoch 11, and with loss8.40843152999878\n"
     ]
    },
    {
     "name": "stderr",
     "output_type": "stream",
     "text": [
      "Epoch 12/50: 100%|██████████| 9/9 [00:00<00:00, 180.80it/s, loss=6.39]\n"
     ]
    },
    {
     "name": "stdout",
     "output_type": "stream",
     "text": [
      "Epoch 12/50, valid loss: 6.48208491007487\n",
      "save model at epoch 12, and with loss6.48208491007487\n"
     ]
    },
    {
     "name": "stderr",
     "output_type": "stream",
     "text": [
      "Epoch 13/50: 100%|██████████| 9/9 [00:00<00:00, 181.70it/s, loss=4.8]\n"
     ]
    },
    {
     "name": "stdout",
     "output_type": "stream",
     "text": [
      "Epoch 13/50, valid loss: 5.601438204447429\n",
      "save model at epoch 13, and with loss5.601438204447429\n"
     ]
    },
    {
     "name": "stderr",
     "output_type": "stream",
     "text": [
      "Epoch 14/50: 100%|██████████| 9/9 [00:00<00:00, 182.33it/s, loss=7.76]\n"
     ]
    },
    {
     "name": "stdout",
     "output_type": "stream",
     "text": [
      "Epoch 14/50, valid loss: 5.289879480997722\n",
      "save model at epoch 14, and with loss5.289879480997722\n"
     ]
    },
    {
     "name": "stderr",
     "output_type": "stream",
     "text": [
      "Epoch 15/50: 100%|██████████| 9/9 [00:00<00:00, 181.38it/s, loss=5.57]\n"
     ]
    },
    {
     "name": "stdout",
     "output_type": "stream",
     "text": [
      "Epoch 15/50, valid loss: 5.247698942820231\n",
      "save model at epoch 15, and with loss5.247698942820231\n"
     ]
    },
    {
     "name": "stderr",
     "output_type": "stream",
     "text": [
      "Epoch 16/50: 100%|██████████| 9/9 [00:00<00:00, 184.20it/s, loss=3.96]\n"
     ]
    },
    {
     "name": "stdout",
     "output_type": "stream",
     "text": [
      "Epoch 16/50, valid loss: 5.2464985847473145\n",
      "save model at epoch 16, and with loss5.2464985847473145\n"
     ]
    },
    {
     "name": "stderr",
     "output_type": "stream",
     "text": [
      "Epoch 17/50: 100%|██████████| 9/9 [00:00<00:00, 185.00it/s, loss=5.7]\n"
     ]
    },
    {
     "name": "stdout",
     "output_type": "stream",
     "text": [
      "Epoch 17/50, valid loss: 5.303487777709961\n"
     ]
    },
    {
     "name": "stderr",
     "output_type": "stream",
     "text": [
      "Epoch 18/50: 100%|██████████| 9/9 [00:00<00:00, 179.02it/s, loss=6.05]\n"
     ]
    },
    {
     "name": "stdout",
     "output_type": "stream",
     "text": [
      "Epoch 18/50, valid loss: 5.158159891764323\n",
      "save model at epoch 18, and with loss5.158159891764323\n"
     ]
    },
    {
     "name": "stderr",
     "output_type": "stream",
     "text": [
      "Epoch 19/50: 100%|██████████| 9/9 [00:00<00:00, 109.00it/s, loss=4.64]\n"
     ]
    },
    {
     "name": "stdout",
     "output_type": "stream",
     "text": [
      "Epoch 19/50, valid loss: 5.151763757069905\n",
      "save model at epoch 19, and with loss5.151763757069905\n"
     ]
    },
    {
     "name": "stderr",
     "output_type": "stream",
     "text": [
      "Epoch 20/50: 100%|██████████| 9/9 [00:00<00:00, 172.79it/s, loss=4.8]\n"
     ]
    },
    {
     "name": "stdout",
     "output_type": "stream",
     "text": [
      "Epoch 20/50, valid loss: 4.946160316467285\n",
      "save model at epoch 20, and with loss4.946160316467285\n"
     ]
    },
    {
     "name": "stderr",
     "output_type": "stream",
     "text": [
      "Epoch 21/50: 100%|██████████| 9/9 [00:00<00:00, 166.17it/s, loss=6.63]\n"
     ]
    },
    {
     "name": "stdout",
     "output_type": "stream",
     "text": [
      "Epoch 21/50, valid loss: 5.028529167175293\n"
     ]
    },
    {
     "name": "stderr",
     "output_type": "stream",
     "text": [
      "Epoch 22/50: 100%|██████████| 9/9 [00:00<00:00, 163.46it/s, loss=4.34]\n"
     ]
    },
    {
     "name": "stdout",
     "output_type": "stream",
     "text": [
      "Epoch 22/50, valid loss: 4.842708269755046\n",
      "save model at epoch 22, and with loss4.842708269755046\n"
     ]
    },
    {
     "name": "stderr",
     "output_type": "stream",
     "text": [
      "Epoch 23/50: 100%|██████████| 9/9 [00:00<00:00, 184.11it/s, loss=5.37]\n"
     ]
    },
    {
     "name": "stdout",
     "output_type": "stream",
     "text": [
      "Epoch 23/50, valid loss: 4.79782231648763\n",
      "save model at epoch 23, and with loss4.79782231648763\n"
     ]
    },
    {
     "name": "stderr",
     "output_type": "stream",
     "text": [
      "Epoch 24/50: 100%|██████████| 9/9 [00:00<00:00, 179.66it/s, loss=5.25]\n"
     ]
    },
    {
     "name": "stdout",
     "output_type": "stream",
     "text": [
      "Epoch 24/50, valid loss: 4.741532325744629\n",
      "save model at epoch 24, and with loss4.741532325744629\n"
     ]
    },
    {
     "name": "stderr",
     "output_type": "stream",
     "text": [
      "Epoch 25/50: 100%|██████████| 9/9 [00:00<00:00, 188.47it/s, loss=5.02]\n"
     ]
    },
    {
     "name": "stdout",
     "output_type": "stream",
     "text": [
      "Epoch 25/50, valid loss: 4.681085268656413\n",
      "save model at epoch 25, and with loss4.681085268656413\n"
     ]
    },
    {
     "name": "stderr",
     "output_type": "stream",
     "text": [
      "Epoch 26/50: 100%|██████████| 9/9 [00:00<00:00, 189.30it/s, loss=5.25]\n"
     ]
    },
    {
     "name": "stdout",
     "output_type": "stream",
     "text": [
      "Epoch 26/50, valid loss: 4.624122619628906\n",
      "save model at epoch 26, and with loss4.624122619628906\n"
     ]
    },
    {
     "name": "stderr",
     "output_type": "stream",
     "text": [
      "Epoch 27/50: 100%|██████████| 9/9 [00:00<00:00, 187.54it/s, loss=4.89]\n"
     ]
    },
    {
     "name": "stdout",
     "output_type": "stream",
     "text": [
      "Epoch 27/50, valid loss: 4.61909278233846\n",
      "save model at epoch 27, and with loss4.61909278233846\n"
     ]
    },
    {
     "name": "stderr",
     "output_type": "stream",
     "text": [
      "Epoch 28/50: 100%|██████████| 9/9 [00:00<00:00, 188.35it/s, loss=4.68]\n"
     ]
    },
    {
     "name": "stdout",
     "output_type": "stream",
     "text": [
      "Epoch 28/50, valid loss: 4.55540148417155\n",
      "save model at epoch 28, and with loss4.55540148417155\n"
     ]
    },
    {
     "name": "stderr",
     "output_type": "stream",
     "text": [
      "Epoch 29/50: 100%|██████████| 9/9 [00:00<00:00, 123.21it/s, loss=4.95]\n"
     ]
    },
    {
     "name": "stdout",
     "output_type": "stream",
     "text": [
      "Epoch 29/50, valid loss: 4.502697626749675\n",
      "save model at epoch 29, and with loss4.502697626749675\n"
     ]
    },
    {
     "name": "stderr",
     "output_type": "stream",
     "text": [
      "Epoch 30/50: 100%|██████████| 9/9 [00:00<00:00, 185.90it/s, loss=4.12]\n"
     ]
    },
    {
     "name": "stdout",
     "output_type": "stream",
     "text": [
      "Epoch 30/50, valid loss: 4.465672969818115\n",
      "save model at epoch 30, and with loss4.465672969818115\n"
     ]
    },
    {
     "name": "stderr",
     "output_type": "stream",
     "text": [
      "Epoch 31/50: 100%|██████████| 9/9 [00:00<00:00, 186.82it/s, loss=4.66]\n"
     ]
    },
    {
     "name": "stdout",
     "output_type": "stream",
     "text": [
      "Epoch 31/50, valid loss: 4.387779712677002\n",
      "save model at epoch 31, and with loss4.387779712677002\n"
     ]
    },
    {
     "name": "stderr",
     "output_type": "stream",
     "text": [
      "Epoch 32/50: 100%|██████████| 9/9 [00:00<00:00, 187.26it/s, loss=3.17]\n"
     ]
    },
    {
     "name": "stdout",
     "output_type": "stream",
     "text": [
      "Epoch 32/50, valid loss: 4.397326628367106\n"
     ]
    },
    {
     "name": "stderr",
     "output_type": "stream",
     "text": [
      "Epoch 33/50: 100%|██████████| 9/9 [00:00<00:00, 185.81it/s, loss=4.78]\n"
     ]
    },
    {
     "name": "stdout",
     "output_type": "stream",
     "text": [
      "Epoch 33/50, valid loss: 4.300639788309733\n",
      "save model at epoch 33, and with loss4.300639788309733\n"
     ]
    },
    {
     "name": "stderr",
     "output_type": "stream",
     "text": [
      "Epoch 34/50: 100%|██████████| 9/9 [00:00<00:00, 184.55it/s, loss=4.3]\n"
     ]
    },
    {
     "name": "stdout",
     "output_type": "stream",
     "text": [
      "Epoch 34/50, valid loss: 4.323463439941406\n"
     ]
    },
    {
     "name": "stderr",
     "output_type": "stream",
     "text": [
      "Epoch 35/50: 100%|██████████| 9/9 [00:00<00:00, 185.01it/s, loss=3.88]\n"
     ]
    },
    {
     "name": "stdout",
     "output_type": "stream",
     "text": [
      "Epoch 35/50, valid loss: 4.18686564763387\n",
      "save model at epoch 35, and with loss4.18686564763387\n"
     ]
    },
    {
     "name": "stderr",
     "output_type": "stream",
     "text": [
      "Epoch 36/50: 100%|██████████| 9/9 [00:00<00:00, 186.30it/s, loss=4.73]\n"
     ]
    },
    {
     "name": "stdout",
     "output_type": "stream",
     "text": [
      "Epoch 36/50, valid loss: 4.200937906901042\n"
     ]
    },
    {
     "name": "stderr",
     "output_type": "stream",
     "text": [
      "Epoch 37/50: 100%|██████████| 9/9 [00:00<00:00, 188.85it/s, loss=4.1]\n"
     ]
    },
    {
     "name": "stdout",
     "output_type": "stream",
     "text": [
      "Epoch 37/50, valid loss: 4.111433347066243\n",
      "save model at epoch 37, and with loss4.111433347066243\n"
     ]
    },
    {
     "name": "stderr",
     "output_type": "stream",
     "text": [
      "Epoch 38/50: 100%|██████████| 9/9 [00:00<00:00, 185.41it/s, loss=3.79]\n"
     ]
    },
    {
     "name": "stdout",
     "output_type": "stream",
     "text": [
      "Epoch 38/50, valid loss: 4.064457257588704\n",
      "save model at epoch 38, and with loss4.064457257588704\n"
     ]
    },
    {
     "name": "stderr",
     "output_type": "stream",
     "text": [
      "Epoch 39/50: 100%|██████████| 9/9 [00:00<00:00, 184.79it/s, loss=4.25]\n"
     ]
    },
    {
     "name": "stdout",
     "output_type": "stream",
     "text": [
      "Epoch 39/50, valid loss: 4.068772395451863\n"
     ]
    },
    {
     "name": "stderr",
     "output_type": "stream",
     "text": [
      "Epoch 40/50: 100%|██████████| 9/9 [00:00<00:00, 185.00it/s, loss=3.68]\n"
     ]
    },
    {
     "name": "stdout",
     "output_type": "stream",
     "text": [
      "Epoch 40/50, valid loss: 3.959313154220581\n",
      "save model at epoch 40, and with loss3.959313154220581\n"
     ]
    },
    {
     "name": "stderr",
     "output_type": "stream",
     "text": [
      "Epoch 41/50: 100%|██████████| 9/9 [00:00<00:00, 184.88it/s, loss=4.9]\n"
     ]
    },
    {
     "name": "stdout",
     "output_type": "stream",
     "text": [
      "Epoch 41/50, valid loss: 3.9042232036590576\n",
      "save model at epoch 41, and with loss3.9042232036590576\n"
     ]
    },
    {
     "name": "stderr",
     "output_type": "stream",
     "text": [
      "Epoch 42/50: 100%|██████████| 9/9 [00:00<00:00, 187.36it/s, loss=3.47]\n"
     ]
    },
    {
     "name": "stdout",
     "output_type": "stream",
     "text": [
      "Epoch 42/50, valid loss: 3.8692107995351157\n",
      "save model at epoch 42, and with loss3.8692107995351157\n"
     ]
    },
    {
     "name": "stderr",
     "output_type": "stream",
     "text": [
      "Epoch 43/50: 100%|██████████| 9/9 [00:00<00:00, 186.51it/s, loss=4.17]\n"
     ]
    },
    {
     "name": "stdout",
     "output_type": "stream",
     "text": [
      "Epoch 43/50, valid loss: 3.8299056688944497\n",
      "save model at epoch 43, and with loss3.8299056688944497\n"
     ]
    },
    {
     "name": "stderr",
     "output_type": "stream",
     "text": [
      "Epoch 44/50: 100%|██████████| 9/9 [00:00<00:00, 191.36it/s, loss=4.24]\n"
     ]
    },
    {
     "name": "stdout",
     "output_type": "stream",
     "text": [
      "Epoch 44/50, valid loss: 3.7863520781199136\n",
      "save model at epoch 44, and with loss3.7863520781199136\n"
     ]
    },
    {
     "name": "stderr",
     "output_type": "stream",
     "text": [
      "Epoch 45/50: 100%|██████████| 9/9 [00:00<00:00, 188.05it/s, loss=4.13]\n"
     ]
    },
    {
     "name": "stdout",
     "output_type": "stream",
     "text": [
      "Epoch 45/50, valid loss: 3.735688050587972\n",
      "save model at epoch 45, and with loss3.735688050587972\n"
     ]
    },
    {
     "name": "stderr",
     "output_type": "stream",
     "text": [
      "Epoch 46/50: 100%|██████████| 9/9 [00:00<00:00, 179.97it/s, loss=3.93]\n"
     ]
    },
    {
     "name": "stdout",
     "output_type": "stream",
     "text": [
      "Epoch 46/50, valid loss: 3.695747216542562\n",
      "save model at epoch 46, and with loss3.695747216542562\n"
     ]
    },
    {
     "name": "stderr",
     "output_type": "stream",
     "text": [
      "Epoch 47/50: 100%|██████████| 9/9 [00:00<00:00, 189.63it/s, loss=4.26]\n"
     ]
    },
    {
     "name": "stdout",
     "output_type": "stream",
     "text": [
      "Epoch 47/50, valid loss: 3.7095958391825357\n"
     ]
    },
    {
     "name": "stderr",
     "output_type": "stream",
     "text": [
      "Epoch 48/50: 100%|██████████| 9/9 [00:00<00:00, 191.94it/s, loss=3.91]\n"
     ]
    },
    {
     "name": "stdout",
     "output_type": "stream",
     "text": [
      "Epoch 48/50, valid loss: 3.681119998296102\n",
      "save model at epoch 48, and with loss3.681119998296102\n"
     ]
    },
    {
     "name": "stderr",
     "output_type": "stream",
     "text": [
      "Epoch 49/50: 100%|██████████| 9/9 [00:00<00:00, 180.34it/s, loss=3.54]\n"
     ]
    },
    {
     "name": "stdout",
     "output_type": "stream",
     "text": [
      "Epoch 49/50, valid loss: 3.568037509918213\n",
      "save model at epoch 49, and with loss3.568037509918213\n"
     ]
    },
    {
     "name": "stderr",
     "output_type": "stream",
     "text": [
      "Epoch 50/50: 100%|██████████| 9/9 [00:00<00:00, 187.86it/s, loss=2.32]\n"
     ]
    },
    {
     "name": "stdout",
     "output_type": "stream",
     "text": [
      "Epoch 50/50, valid loss: 3.5257187684377036\n",
      "save model at epoch 50, and with loss3.5257187684377036\n"
     ]
    }
   ],
   "source": [
    "def train_loop(train_loader, valid_loader, model, config, device):\n",
    "    loss_fn = nn.MSELoss(reduction=\"mean\")\n",
    "    optimizer = torch.optim.SGD(model.parameters(), lr=config[\"lr\"], momentum=0.9)\n",
    "\n",
    "    if not os.path.exists(\"./models\"):\n",
    "        os.makedirs(\"./models\")\n",
    "    \n",
    "    n_epochs = config[\"epochs\"]\n",
    "    best_loss = float(\"inf\")\n",
    "\n",
    "    for epoch in range(n_epochs):\n",
    "        model.train()\n",
    "\n",
    "        train_pbar = tqdm(train_loader, position=0, leave=True)\n",
    "\n",
    "        for X, y in train_pbar:\n",
    "            optimizer.zero_grad()\n",
    "            X = X.to(device)\n",
    "            y = y.to(device)\n",
    "\n",
    "            y_pred = model(X)\n",
    "            loss = loss_fn(y_pred, y)\n",
    "            loss.backward()\n",
    "            optimizer.step()\n",
    "\n",
    "            train_pbar.set_description(f\"Epoch {epoch+1}/{n_epochs}\")\n",
    "            train_pbar.set_postfix({'loss': loss.item()})\n",
    "            \n",
    "        model.eval()\n",
    "        valid_loss = []\n",
    "        for X, y in valid_loader:\n",
    "            X = X.to(device)\n",
    "            y = y.to(device)\n",
    "            with torch.no_grad():\n",
    "                y_pred = model(X)\n",
    "                loss = loss_fn(y_pred, y)\n",
    "            valid_loss.append(loss.item())\n",
    "\n",
    "        loss = np.mean(valid_loss)\n",
    "        print(f\"Epoch {epoch+1}/{n_epochs}, valid loss: {loss}\")\n",
    "        if loss < best_loss:\n",
    "            best_loss = loss\n",
    "            torch.save(model.state_dict(), config[\"save_path\"])\n",
    "            print(f\"save model at epoch {epoch+1}, and with loss{best_loss}\")\n",
    "\n",
    "model = PredModel(input_dim=X_train.shape[1]).to(device)\n",
    "train_loop(train_loader, valid_loader, model, config, device)\n",
    "\n",
    "        "
   ]
  },
  {
   "cell_type": "code",
   "execution_count": null,
   "metadata": {},
   "outputs": [],
   "source": []
  }
 ],
 "metadata": {
  "kernelspec": {
   "display_name": "ml",
   "language": "python",
   "name": "python3"
  },
  "language_info": {
   "codemirror_mode": {
    "name": "ipython",
    "version": 3
   },
   "file_extension": ".py",
   "mimetype": "text/x-python",
   "name": "python",
   "nbconvert_exporter": "python",
   "pygments_lexer": "ipython3",
   "version": "3.11.4"
  },
  "orig_nbformat": 4
 },
 "nbformat": 4,
 "nbformat_minor": 2
}
